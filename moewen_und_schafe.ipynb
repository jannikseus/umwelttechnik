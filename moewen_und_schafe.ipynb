{
 "cells": [
  {
   "metadata": {},
   "cell_type": "markdown",
   "source": [
    "# Dünnschnabelmöwen und Dickhornschafe\n",
    "\n",
    "Die Unterscheidung zwischen Dünnschnabelmöwen und Dickhornschafen stellt eine interessante und relevante Aufgabenstellung in der biologischen Forschung und Naturschutz dar. Diese beiden Arten sind nicht nur ökologisch bedeutend, sondern auch faszinierend in ihrem Verhalten und ihren Lebensräumen. Die Fähigkeit, diese beiden Arten zu unterscheiden, ist deshalb essentiell für den weiteren beruflichen Werdegang:\n",
    "\n",
    "Aufgabenstellungen:\n",
    "- Lade die Datei animals.csv.\n",
    "- Gib die ersten 5 Zeilen des Datensets auf der Kommandozeile aus:\n",
    "- Schreibe ein Programm p1_classification in Python, welches die Daten wie folgt visualisiert. Nutze die Bibliotheken pandas, matplotlib:\n",
    "- Randomisiere das Datenset. Kodiere die Labels als numerische Werte, damit sie von Tensorflow verarbeitet werden können. Teile die Daten in p2_classification in Trainings- und Testdaten (80% Training, 20% Test). Erstelle in Keras ein Modell mit 2 Hidden Layers mit jeweils 4 Knoten und Relu-Aktivierung. Der Output-Knoten soll die Sigmoid-Funktion als Aktivierung haben. Nimm Binary Cross Entropy als Loss-Funktion, und den Adam-Optimizer. Trainiere das Modell 50 (eventuell mehr) Epochen lang, mit einer Batch-Größe von 100.\n",
    "- Plotte die Loss-Funktion über Training und Test. Wie unterscheidet sich der Verlauf für wenige und viele Epochen?\n",
    "- Plotte das gelernte Modell und die Test-Daten: Nutze contourf und scatter der matplotlib:\n",
    "- Berechne zuletzt die Vorhersagewerte des Modells für folgende Wertepaare:  Umfang/Groesse:  [90, 90], [70, 70]."
   ],
   "id": "6184ef40fdc835c2"
  }
 ],
 "metadata": {
  "kernelspec": {
   "display_name": "Python 3",
   "language": "python",
   "name": "python3"
  },
  "language_info": {
   "codemirror_mode": {
    "name": "ipython",
    "version": 2
   },
   "file_extension": ".py",
   "mimetype": "text/x-python",
   "name": "python",
   "nbconvert_exporter": "python",
   "pygments_lexer": "ipython2",
   "version": "2.7.6"
  }
 },
 "nbformat": 4,
 "nbformat_minor": 5
}
